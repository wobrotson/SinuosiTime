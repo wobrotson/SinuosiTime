{
 "cells": [
  {
   "cell_type": "markdown",
   "metadata": {},
   "source": [
    "# Evaluating the spatio-temporal evolution of the sinuosity of channels undergoing base-level fall cut by groundwater-fed springs using high-resolution satellite imagery\n",
    "*Presentation of a method for creating time series of channel sinuosity evolution from satellite imagery, along with a brief description and interpretation of results from the Ghor Al-Haditha study site, eastern Dead Sea shore, Jordan.*\n",
    "\n",
    "\n",
    "**Robert A. Watson**\\\n",
    "Department of Earth Sciences, University College Dublin, Ireland\\\n",
    "*robert.watson@ucd.ie*\n",
    "\n",
    "## Summary\n",
    "\n",
    "This is a method I developed during my masters for calculating the sinuosity (ratio of centre-line length to valley length) of stream channels using satellite images from different timestamps is presented for an example case study in the area of Ghor Al-Haditha, Dead Sea eastern shore, Jordan, where the regional hydrological base-level has fallen almost 40 m since the 1960s. The method involves manually digitising the channel centreline 'thread' as a line shapefile for each timestamp in a GIS software package, and then calculating the sinuosity for each timestamp with a new Python library '*sinuutils*' written for the task. A moving window of fixed length is applied to interrogate each sinuosity timestamp spatially, with the channel profile resampled at 1 m intervals to normalise for length. Results obtained for the Dead Sea eastern shore site of Ghor Al-Haditha in Jordan are presented. At this site, channels cut by groundwater springs have developed new meanders, modified existing meanders and incised vertically since the year 2000, their evolution apparently triggered by the decline in Dead Sea level and the synchronous retreat of the lake shoreline. "
   ]
  },
  {
   "cell_type": "markdown",
   "metadata": {},
   "source": [
    "## 1. Introduction\n",
    "\n",
    "The morphology of single-thread river channels can be quantified by a series of parameters. These include: (1) the ratio between the channel’s bankfull width and the channel’s depth (*W/D* or aspect ratio); (2) the ratio between the pre-existing topographic slope (*S<sub>v</sub>*) and the along-channel slope (*S<sub>c</sub>*), and (3) the ratio between the straight-line length from a channels head to its mouth, commonly termed the valley length (*L<sub>v</sub>*) and the channels entire centre-line length (*L<sub>c</sub>*). These last two ratios are related to each other by the equation\n",
    "\n",
    "\n",
    "$$\\frac{L_c}{L_v} = \\frac{S_v}{S_c} = P \\label{eq1}\\tag{1}$$\n",
    "\n",
    "Where *P* is the ‘total sinuosity’ of the channel in plan-form, with *P = 1* indicating a completely straight channel path and *P > 1.5* indicating high levels of sinuosity (Schumm, 1993). Streams of a high sinuosity therefore have a low channel gradient, as reported by Leopold and Wolman (1957). Ratzlaff (1991) redefined the ‘total sinuosity’ of a channel to be comprised of several components: ‘channel sinuosity’, ‘floodplain sinuosity’, ‘terrace sinuosity’ and ‘valley sinuosity’. If the channel does not form within a floodplain, ‘floodplain sinuosity’ and ‘terrace sinuosity’ do not require consideration and the ‘total sinuosity’ of a channel is merely the product of channel and valley sinuosity (as in Schumm’s (1993) definition). Flowing water does not necessarily consist of a single well-defined channel, but may also organise into a network of interacting channels, termed ‘braiding’ (Leopold & Wolman, 1957; Schumm et al., 1987). \n",
    "\n",
    "Changes in fluvial channel morphology in response to base level fall via downward incision and knickpoint migration or degradation of the channel banks have been proposed to depend on the rate and magnitude of base-level fall, the local relief and hydrological input, and the character of the channel substrate (Blum & Törnqvist, 2000; Leopold & Bull, 1979; Schumm, 1993; Simon & Rinaldi, 2006). Schumm (1993) proposed that channels may evolve to base-level drop via planform pattern changes, such as increases or decreases in sinuosity, in addition to aggradation and degradation of the channel. Indeed, such planform changes may be the primary mechanism of adjustment. Schumm also suggested that the pattern adjustments of a channel due to base-level fall are only likely to be observed in the section of channel which forms on the newly uncovered surface exposed by the base-level fall, due to the large scale of these fluvial systems. The difference in length scale between the entire channel length and the horizontal retreat of base-level in these cases is very large, hence the ability of the base-level drop to affect channel morphology is attenuated upstream in these large fluvial systems. \n",
    "\n",
    "The conceptual adjustment of channel sinuosity in response to an increment of base-level drop, in the case of constant slope of the valley floor bathymetry, is presented in **Figure 1**. The concept is based upon that conceived by Schumm (1993), but with the important distinction that the scale of shoreline retreat in response to base-level fall is of a comparable scale to the length of the channel itself, whereas in previous studies the length of the channel or river has been orders of magnitude greater than the scale of shoreline retreat. If the channel is to preserve its initial slope (α2), either the channel lengthens further at the same sinuosity (adding meanders, such as in **Figure 1a** between H and H’) or it erodes downward (incises) along the entire length of the channel (such as in Figure 1b). Alternatively, upstream lengthening of the channel can occur via back-erosion of the channel head to preserve the sinuosity of the channel and to maintain channel slope. In the case of a variable valley floor slope, the channel will adjust differently: if the valley slope increases, sinuosity must increase in the new section of channel to preserve channel slope (Schumm, 1993). In the case of a significant decrease in valley slope, the channel will display a decrease in sinuosity in the channel reach on the newly exposed shelf, and may begin to deposit material to form an alluvial fan or delta (Schumm, 1993). \n",
    "\n",
    "<p><img src=\"images/schumm_fig1a.png\" alt=\"schummfig1\" width=\"400\"/></p>\n",
    "\n",
    "***Figure 1.*** *Conceptual model of stream channel morphological response to base-level drop revealing a bathymetry of constant slope (α1) where the lithological properties of the material into which the channel is cut are uniform and homogeneous, modified from Schumm (1993). If the base-level falls by a given increment between time TA and TB, then the valley profile (AB) will increase by a given length (BD). The initial stream channel (AC) must increase in length by this amount as a minimum (BD = CH). The stream channel is hypothesised to respond to the base-level drop via two key mechanisms, both preserving the channel slope (α2): (a) adding meanders to the newly exposed valley floor until the new base-level is reached, of a length equivalent to HH’, or (b) incising along the channel length leading to a reduction in sinuosity, with the sinuosity reduction either distributed across the entire channel or only in parts of it (e.g. only in the newly developed reach of the channel, as shown here).*\n",
    "\n",
    "In the case that we wish to assess the evolution of the sinuosity of a given reach of a channel with time by mapping the sinuosity using satellite imagery from multiple timestamps, we need a common framework from which to approach the problem and to normalise the approach to assessing sinuosity changes for each point in the channel between timestamps. This document aims to provide a framework for doing this using digitisation of channel centrelines manually to shapefiles (using a GIS software such as QGIS) and then analysing changes in sinuosity along-reach using a new python library 'sinuutils.py' written for the task. An example workbook for implementing the results is published in this repository. I have also provided some results obtained using the method for a study area on the Dead Sea eastern shore in Jordan, Ghor Al-Haditha, along with a brief discussion of the findings. "
   ]
  },
  {
   "cell_type": "markdown",
   "metadata": {},
   "source": [
    "## 2. Study Area and Datasets\n",
    "\n",
    "### 2.1 Study Area\n",
    "\n",
    "The Dead Sea is the hypersaline terminal lake of the Jordan River (**Fig. 2a**) and it lies within the Dead Sea basin. This ∼150 km long and ∼8–15 km wide basin lies at a left step (or bend) along the left-lateral Dead Sea Transform fault system (Garfunkel and Ben-Avraham, 1996). The basin has subsided rapidly from the late Pliocene to the present (Ten Brink and Flores, 2012), and during this time has hosted several palaeo-lakes of varying size and longevity (Bartov et al., 2002; Torfstein et al., 2009). With respect to modern global mean sea level (m.s.l.), a high-stand of −162 m m.s.l. was reached at around 25 ka, during the “Lisan Lake” episode. The modern Dead Sea initiated after a major low-stand at around 10 ka (Bartov et al., 2002). Since the late 1960s, the Dead Sea water level has undergone a largely anthropogenically forced decline at a gradually increasing rate (Lensky et al., 2005) from −395 to −433 m m.s.l. (1967–2018). As its level has declined, the modern lake has divided into northern and southern parts; the latter is now occupied entirely by industrial salt evaporation ponds. The base-level fell at a rate of 0.5 m yr−1 in the 1970s and at a rate of 1.1 m yr−1 in the last decade. In absolute terms, the lake level has declined by 39 m as of 2018 and is forecast to drop a further 25–70 m by 2100 (Asmar and Ergenzinger, 2002; Yechieli and Gavrieli, 1998).\n",
    "\n",
    "The Ghor Al-Haditha study area, which is about 25 km2 in size, is situated on the southeast shore of the northern Dead Sea (**Fig. 2**). The fall in Dead Sea level from 1967 to 2017 exposed former lake bed deposits that have been impacted by various processes in the intervening time. The bathymetry forms the topographical baseline for the study area and its transition from a steady (i.e. not significantly denuding) submarine environment to a rapidly eroding, subaerial regime is a fundamental cause of the evolution of the surface topography in the study area. Two main stream channel morphologies have been cut into the exposed salty-marl deposits of the former Dead Sea lake bed: meandering (CM) and straight (CS) (**Fig. 2**). The focus of this work is on the meandering channels.\n",
    "\n",
    "<p><img src=\"images/overview_sinuosity_code_fig2.png\" alt=\"GAH_overview\" width=\"700\"/></p>\n",
    "\n",
    "The heads of all meandering channels have developed at spring points (in most cases, one per channel). Such springs lie either at the alluvium/mudflat boundary or within the mudflat deposits. As the shoreline has retreated, these channels have grown seaward, and show little or no upstream growth. Established sections of bof the channels also widen progressively with time. From field observations, channel widening is commonly associated with fault-delimited slumping of the channel sides (Al-Halbouni et al., 2017). Deposits within the meandering channels are mud to silt size. **Figure 3** shows a representative example of the evolution of one of these channels (CM6) with time.\n",
    "\n",
    "<p><img src=\"images/CM6-fig-AJG.png\" alt=\"CM6fig\" width=\"700\"/></p>\n",
    "\n",
    "***Figure 3.*** *Evolution of a meandering stream channel at Ghor Al-Haditha. (A), (B) and (C) are line maps of the geomorphology in 2000, 2012 and 2017 respectively. The channel in question is shown in green; other channels are shown in grey, along with the Dead Sea itself. The retreat of the shoreline with time is also shown, as is the growth of a fan of alluvial wadi deposits (light brown) and surface water ponded in sinkholes (light blue). In (C), the ‘meander belt axis’ (1-1’; light blue dashed line) and the longitudinal profile of the channel (2-2’; solid red line) are shown. (D), (E) and (F) show representative profiles transecting the channel as labelled in (C). The vertical exaggeration of all three transects is 7.5:1. (G) shows the longitudinal profile of the channel relative to its meander belt axis and the relative contributions of subsidence and incision to its evolution.*\n",
    "\n",
    "### 2.2 Datasets\n",
    "\n",
    "To digitise the stream channel centrelines for different timestamps, high-resolution satellite imagery and aerial photographic imagery were used as presented in **Table 1**. For the Ghor Al-Haditha study area, many of the images were obtained commercially and were orthorectified, georeferenced and pansharpened in-house as part of research done during the DESERVE Project (Kottmeier et al., 2016). However, Google Earth hosts global georeferenced satellite imagery databases comprising images from multiple timestamps of adequate resolution for the vast majority of global locations, meaning that the approach presented here can be universally applied to open-source datasets. Google Earth also supports vector digitisation of the centrelines of channels, so this software can be used to generate the spatial data to be analysed if required.\n",
    "\n",
    "| Year |   Sensor   | Acquisition Date & Time (EET) | Resolution (m/pix) | Off-Nadir View Angle (&deg;) | Collection Azimuth |\n",
    "|:----:|:----------:|:---------------------------:|:------------------:|:----------------------------:|:------------------:|\n",
    "| 2000 |RJGC Aerial | 29/10 and 03/11, morning    |        0.6         |             n/a              |         n/a        |\n",
    "| 2004 | Quickbird  |      2004-10-20T08:37       |        0.6         |             12.0             |         090.1      |\n",
    "| 2006 | Quickbird  |      2006-11-18T08:42       |        0.6         |             11.0             |         120.1      | \n",
    "| 2009 | GeoEye-1   |      2009-08-09T08:32       |        0.5         |             19.3             |         223.9      | \n",
    "| 2012 | Quickbird  |      2012-03-05T07:42       |        0.6         |             19.8             |         119.0      | \n",
    "| 2014 |WorldView 3 |      2014-09-23T08:06       |        0.3         |             21.1             |         059.8      | \n",
    "| 2017 |Pleiades-1A |      2017-04-16T08:32       |        0.5         |             07.1             |         180.1      |\n",
    "\n",
    "***Table 1.*** *Metadata for satellite and aerial photographic images used in the example study. RJGC is the Royal Jordanian Geographical Centre. EET = Eastern European Time.*\n",
    "\n",
    "Additionally, I made use of elevation and topographic data for determining along-channel variations in slope and for delimiting the central axis of the 'valley' for each channel (see the **Methods** section for a discussion of what defines such a 'valley' in the case of these channels). For the purposes of this study, the data used were very high-resolution Digital Surface Models (DSMs) as detailed in **Table 2**. These DSMs were produced by Structure-from-Motion (SfM) photogrammetry (see Al-Halbouni et al., 2017, for a review of the SfM DSM generation process employed). These DSMs are available upon request from the creators (Djamil Al-Halbouni and Leila Saberi). High-resolution topographic data such as this currently publicly available only for certain parts of the globe, but its availability is presently increasing. For analysis of sinuosity variations with space and time, topographic data is not required and is only necessary for contextualising the results, so the approach presented does not rely on the existence of topograhpic data. In the majority of cases, the resolution of topographic data may not need to be as fine as that in this study when interrogating the effects of channel slope on sinuosity variations in space and time. In any case, high-resolution DSMs do not exist for every timestamp studied here, so can only offer limited assistance in contextualising the results presented.\n",
    "\n",
    "| Year | Resolution (m/pix) | Horizontal Accuracy (m) | Vertical Accuracy (m) |\n",
    "|:----:|:------------------:|:-----------------------:|:---------------------:|\n",
    "|2014  |0.05                |0.10                     |0.11                   |\n",
    "|2015  |0.10                |0.12                     |0.17                   |\n",
    "|2016  |0.10                |0.37                     |0.31                   |\n",
    "\n",
    "***Table 2.*** *Metadata for SfM DSM datasets used in the study.* \n",
    "\n",
    "For the Ghor Al-Haditha study area, no reliable topographic baseline (prior to the onset of major surface erosion) existed, so I reconstructed the bathymetry of the former lake bed (uncovered by the regression of the Dead Sea shoreline) using historical measurements of Dead Sea level. This process and the resulting topography were reported in (Watson et al., 2019). "
   ]
  },
  {
   "cell_type": "markdown",
   "metadata": {},
   "source": [
    "## 3. Methods\n",
    "\n",
    "Here I first define some key terms in the approach used to quantify the morphological evolution of the meandering channels. The ‘valley length’ (*L<sub>v</sub>* in equation (1)) is here defined after Brice (1964) who defines the ‘valley sinuosity’ as the difference between the gentle sinuous axis of a line following the trend of the channel as it meanders (the ‘meander belt’) and the straight-line distance between the head and mouth of the channel. In my analysis, I treat the ‘valley sinuosity’ or ‘meander belt axis’ to be a baseline for channel sinuosity in the absence of a topographical valley to constrain the channel limits (ie I consider the ‘meander belt axis’ to have a sinuosity of 1). Therefore, I define the ‘total sinuosity’ to be the ratio of total channel length ((*L<sub>c</sub>* in equation (1)) and the length of the meander belt axis (here considered equivalent to *L<sub>v</sub>*). \n",
    "\n",
    "### 3.1 Mapping of channel centreline and meander belt axis\n",
    "\n",
    "*L<sub>c</sub>* was derived by manually digitising the centreline of the channels within QGIS using visual inspection of the satellite imagery, and *L<sub>v</sub>* by manually determining the meander belt axis profile from visual inspection of the high-resolution satellite imagery, the SfM-derived topography and the bathymetric contour data. Examples of these digitisations can be seen in **Figure 3** and **Figure 4A**.\n",
    "\n",
    "If you are using open-source satellite data whose bandwidth includes the Middle Infrared (MIR) band (wavelength = 1550–1750 nm), such as Landsat 8 or Sentinel 2 imagery, then it is possible to extract channel centrelines semi-automatically from the satellite imagery using the RivaMap and DeepRiver Python packages developed by Isikdogan et al. (2017, 2018). These automated approaches take advantage of the Modified Normalised Difference Water Index (MNDWI; Xu, 2006), which necessitates use of the MIR band as follows:\n",
    "\n",
    "$$MNDWI = \\frac{Green - MIR}{Green + MIR} \\label{eq2}\\tag{2}$$\n",
    "\n",
    "It may be possible to use satellite images whose bandwidth is more limited (such as images from all the sensors that I used, see **Table 1**) by using the unmodified Normalised Water Difference Index (NWDI; McFeeters, 1996) instead, which uses the Near Infrared Band (NIR, wavelength = 750 - 1050 nm), a much more common wavelength band, in place of the MIR. However, the resulting images are likely to be much noisier than those derived using the MNDWI, which may impede performance of the RivaMap and DeepRiver algorithms.\n",
    "\n",
    "### 3.2 Channel centreline analysis to derive sinuosity evolution\n",
    "\n",
    "I then analysed the data using the Anaconda platform. An Anaconda environment was built comprising the following python libraries: pandas, matplotlib, pyshp, math, string, and numpy. The following steps were coded into functions included within the script *'sinuutils.py'* and the steps are shown in the marked up Jupyter Notebook *'sinuosity_analysis_workbook.md'*.\n",
    "\n",
    "Shapefiles were read using the *'Pyshp'* Python library (https://pypi.org/project/pyshp/) and were then incorperated into a pandas dataframe (**Fig. 4A**; function *readshapestopandas* in *sinuutils.py*). Following this, the profile is reduced to a single coordinate system by 'straightening' the profile with respect to the meander belt axis (**Fig. 4B**; functions *transaxis* and *warptodirect* in *sinuutils.py*). If the sinuosity is then calculated for a moving window of fixed length *x* (where the unit of the window length is *'number of nodes of channel line shapefile'*, performed using the function *windowed_sinuosity* in *sinuutils.py*), the resulting sinuosity profiles are those plotted in **Figure 4C**. This is not useful, however, as there is no directional context to the results and the results are not regularised. Therefore, I then resampled the channel profiles at one-metre intervals (**Fig. 4D**; function *metre_interp* in *sinuutils.py*) to put the results in an unambiguous spatial context. The sinuosity is then recalculated with a moving window of length *x* m (**Figs. 5, 6**; function *windowed_sin_interp* in *sinuutils.py*.)\n",
    "  \n",
    "   <div style=\"background-image:url('images/sinuosity_data_processing_workflow_pub.png'); width:900px; height:630px; background-position:center;\">&nbsp;</div>\n",
    "\n",
    "***Figure 4.*** *Processing workflow for deriving sinuosity of channel CM6 over a moving 50 m window. (A) unprocessed channel profiles for each year. The deviations in channel position are the result of errors in the georeferencing of the satellite imagery, and also probably because there is a better way to transform the WGS84 coordinate system to one in metre-units than my 'approximate the earth as a sphere' method. (B) The profiles for each year studied after being 'straightened' relative to the meander belt axis profile. (C) Sinuosities for each year if the channels are not resampled at one-metre resolution. The irregular results, where the curves move 'back-and-forth' along the x-axis, arise from the lack of spatial context. (D) Straightened channel profiles after resampling every metre along the meander belt axis.*\n"
   ]
  },
  {
   "cell_type": "markdown",
   "metadata": {},
   "source": [
    "## 4. Results\n",
    "\n",
    "### 4.1 Sensitivity to window length\n",
    "\n",
    "The channel sinuosity was analysed in moving windows of a fixed length of 50m. A 50m window was determined to be the most suitable for subsequent interpretation. \n",
    "\n",
    "<div style=\"background-image:url('images/windows_CM6.png'); width:1000px; height:750px; background-position:center;\">&nbsp;</div>\n",
    "\n",
    "***Figure 5.*** *sensitivity of sinuosity along channel CM6 to size of moving window.*\n",
    "    \n",
    "### 4.2 Geomorphological context in the case of CM6\n",
    "\n",
    "For ease of comparison and explanation of my results, channels were divided into ten reaches of equal length for each channel, with reach 1 that nearest the channel head and reach 10 that nearest the channel mouth.\n",
    "\n",
    "The corrected meander belt axis profile and the channel profile for a given channel have different lengths and different head and mouth elevations. The channel profiles are always longer than the meander belt axes due to channel sinuosity. The difference in elevation at the head of the channel between the corrected meander belt axis and the channel profiles shows the amount of vertical incision that has occurred at the head of the channel. Often, due to the sinuous nature of the channels, this early section of the channel is the only point where it is possible to correctly determine the amount of vertical incision from these longitudinal plots. Additionally, the apparent vertical incision may also be exaggerated by the effects of subsidence phenomena such as sinkholes and uvalas: for example, the head of CM5 occurs within the uvala U2 (see section 5.3.2 below) which has been the site of wide-scale subsidence with a rate of 0.21 m yr-1 over the last 25 years (Al-Halbouni et al., 2017), meaning that total vertical displacement due to subsidence for this period should be around 5.3 m. Another area where subsidence has affected the corrected profiles is 200 – 400 m along the profile of CM6, where a large area of sinkholes has developed from 2009 onwards (Figure 12; Figure 13). In general, incision is greatest in the upstream sections of the channels and diminishes downstream. This incision accounts in part for the difference in slope between the channels and their respective meander belt axes. \n",
    "\n",
    "<img src=\"images/sinuosity_CM6_bath_corr.png\" alt=\"sin_results\" />\n",
    "\n",
    "The channel profile of CM6 is complicated by the erosion of material due to sinkhole formation and associated subsidence between 160 m – 400 m (reaches 3 – 5) from 2009 onwards, and also by the subsidence associated with the formation of uvala U2 at the channel head. The year 2006 is anomalous in this channel, with a reduced sinuosity across the channel length as compared to 2004 and 2009. I think that this anomaly is a true attribute of the data and not a sampling artefact or question of data quality.  \n",
    "\n",
    "In reach 3 of CM6, there is an overall increase in sinuosity from an initial sinuosity of 1.55 in 2000 to 1.8 in 2009. The sinuosity in reach 3 then drops back to 1.55 in 2012 and remains around this value in subsequent years. A similar trend is observed at around 300 m (reach 4), where sinuosity increases from an initial sinuosity of 1.25 in 2000 to 1.5 in 2009, and then drops again in 2012 – 2017. Another instance of this occurs at 400m (reach 5), with another increase from an initial sinuosity of 1.25 in 2000 to 1.65 in 2009, followed by a decrease in 2012 to around 1.35. In reach 5, however, this decrease is not maintained in 2014 and 2017, when sinuosity increases again to 1.55. In reach 6, formed in 2004 and 2006, the initial sinuosity value (~1.25) is little changed from the initial sinuosity of reach 5. However, the sinuosity of reach 6 is elevated in 2009 to ~1.50, and the initial sinuosity of reach 7, formed in 2009, is of a similar elevated sinuosity value. This initial sinuosity at reach 7 increases in 2012 to 1.90, then drops to ~1.70 in 2014 and 2017.\n",
    "\n",
    "In the latter reaches of the channel formed after 2009 (reaches 8 – 10), there is a large decrease in sinuosity from a peak in initial sinuosity of 2.10 at 700 m (reach 8) in 2012 down to around 1.20 by in reach 10. The peak in initial sinuosity value in reach 8 in 2012 diminishes in 2014. By 2017 the peak has disappeared entirely, and the final sinuosity value is even lower.  "
   ]
  },
  {
   "cell_type": "markdown",
   "metadata": {},
   "source": [
    "## 5. Discussion and Future Work\n",
    "\n",
    "### 5.1 Improvements to the method\n",
    "\n",
    "### 5.2 Geomorphological interpretations of sinuosity evolution at CM6\n",
    "\n",
    "The difference between the two regimes at Ghor al-Haditha, in terms of discharge and slope thresholds, is minimal. Other factors, such as the nature of sediment input, can easily tip the balance between the two morphological regimes. This can be seen at CM6, which, following the connection of the channel head with an offshoot of the alluvial fan from 2013 onwards, straightened markedly in the new reaches formed (Figure 9; Figure 14). The rapid change in morphological regime over time can thus be attributed to a threshold shift to more intense but shorter duration discharge events into the channel from the wadi and an associated coarsening of sediment input. Therefore, as has been suggested in previous studies (e.g. Schumm and Khan, 1972; Simon and Rinaldi, 2006), apparently small changes in one or more input variables to a fluvial system can have a dramatic effect on the geomorphological form of that system.\n",
    "\n",
    "The effects of flow resistance upon channel sinuosity have not been considered in this work. The resolution and accuracy of topographic data required to robustly analyse deposits of the nature found in the study area are very high (cm-scale accuracy), and it is doubtful that the data presented here meet the requirements of this analytical method as the resolution and accuracy of the DSMs presented is of decimetre-scale only. Future work could constitute a detailed re-survey of the individual channels to the required accuracy and resolution, either by using a photogrammetric approach or ideally LiDAR technology.\n",
    "\n",
    "In general, the channels in the former lakebed display longitudinal profiles with concave-upward morphologies, which are typical of channels on all spatial scales across a spectrum of substrate materials (Devauchelle et al., 2011; Sinha & Parker, 1996). No significant, persistent knickpoints have been identified, unlike other channels fed by groundwater seepage (Laity and Malin, 1985). This could be an artefact of the spatial and temporal resolution of our observations, which could be too coarse to observe any transient knickpoint features before they are removed. Knickpoints have been observed in the field in the study area, but these observations are rare and the knickpoints themselves are very small (typically a few centimetres high) in comparison to the along-channel length. Some local convexities in longitudinal channel profile (e.g. the upper reaches of CM6) are coincident with areas of subsidence which intersect the channel (Figure 9; Figure 12).\n",
    "\n",
    "It is possible that local along-profile variations in channel slope may relate to changes in the mode of channel operation. For example, the flattening of the channel profile of CM6 at ~400 m (Figure 12) is co-incident with a large area of subsidence which contains deposits of alluvial sediments (as observed in the aerial imagery and in the field), indicating a zone in which deposition of channel deposits dominates over erosion. Such alternations in the mode of channel operation are common in discontinuous ephemeral stream systems (Bull, 1997). Future work studying longitudinal channel morphology in the study area should include a more detailed field study of the surface morphology, fluvial sedimentology and sediment load characteristics of the channels, along with specific very high-resolution and accuracy (cm-scale) aerial surveys to better map the topography of the channels. \n",
    "\n",
    "The evolution of channel sinuosity with time in response to base-level fall is more ambiguous in nature than vertical incision of the channels. However, some plausible explanations for the trends in sinuosity evolution in the context of base-level fall may be presented. A general trend which is observed for the upper reaches of all channels in the mud-dominated substrates is an increase in sinuosity from its initial value for a given time period followed by a decrease in later years. At CM6, there is an increase in sinuosity from the initial value in reaches 1 – 6 until 2009, after which a decrease is observed. This increase in initial sinuosity also appears to arise from a steepening of the initial bathymetry in reaches 4 and 5, followed by an even sharper steepening in reaches 6 and 7. The following decrease in sinuosity from 2009 onwards may be because of the shallowing of bathymetric slope in reaches 8 – 10, which then drives an upstream decrease in sinuosity. \n",
    "\n",
    "\n"
   ]
  },
  {
   "cell_type": "markdown",
   "metadata": {},
   "source": [
    "## 6. Conclusions\n",
    "\n",
    "\n",
    "## 7. References"
   ]
  },
  {
   "cell_type": "code",
   "execution_count": null,
   "metadata": {},
   "outputs": [],
   "source": []
  }
 ],
 "metadata": {
  "kernelspec": {
   "display_name": "Python 3",
   "language": "python",
   "name": "python3"
  },
  "language_info": {
   "codemirror_mode": {
    "name": "ipython",
    "version": 3
   },
   "file_extension": ".py",
   "mimetype": "text/x-python",
   "name": "python",
   "nbconvert_exporter": "python",
   "pygments_lexer": "ipython3",
   "version": "3.7.4"
  }
 },
 "nbformat": 4,
 "nbformat_minor": 2
}
