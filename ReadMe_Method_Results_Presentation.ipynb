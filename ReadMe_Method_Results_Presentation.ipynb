{
 "cells": [
  {
   "cell_type": "markdown",
   "metadata": {},
   "source": [
    "# Evaluating the spatio-temporal evolution of the sinuosity of channels cut by groundwater-fed springs using high-resolution satellite imagery\n",
    "*Presentation of a method for creating time series of channel sinuosity evolution from satellite imagery, along with a brief description and interpretation of results from the Ghor Al-Haditha study site, eastern Dead Sea shore, Jordan.*\n",
    "\n",
    "\n",
    "**Robert A. Watson**\\\n",
    "Department of Earth Sciences, University College Dublin, Ireland\\\n",
    "*robert.watson@ucd.ie*\n",
    "\n",
    "## Summary\n",
    "\n",
    "A method for calculating the sinuosity (ratio of centre-line length to valley length) of stream channels using satellite images from different timestamps is presented for an example case study in the area of Ghor Al-Haditha, Dead Sea eastern shore, Jordan. The method involves manually digitising the channel centreline 'thread' as a line shapefile for each timestamp in a GIS software package, and then calculating the sinuosity for each timestamp with a new Python library '*sinuutils*' written for the task. A moving window of fixed length is applied to interrogate each sinuosity timestamp spatially, with the channel profile resampled at 1 m intervals to normalise for length. Results obtained for the Dead Sea eastern shore site of Ghor Al-Haditha in Jordan are presented. At this site, channels cut by groundwater springs have evolved since the year 2000, apparently triggered by a decline in Dead Sea level (the local base level) and the synchronous retreat of the lake shoreline. "
   ]
  },
  {
   "cell_type": "markdown",
   "metadata": {},
   "source": [
    "## 1. Introduction\n",
    "\n",
    "The morphology of single-thread river channels may be quantified by a series of parameters. These include: (1) the ratio between the channel’s bankfull width and the channel’s depth (*W/D* or aspect ratio); (2) the ratio between the pre-existing topographic slope (*S<sub>v</sub>*) and the along-channel slope (*S<sub>c</sub>*), and (3) the ratio between the straight-line length from a channels head to its mouth, commonly termed the valley length (*L<sub>v</sub>*) and the channels entire centre-line length (*L<sub>c</sub>*). These last two ratios are related to each other by the equation\n",
    "\n",
    "\n",
    "$$\\frac{L_c}{L_v} = \\frac{S_v}{S_c} = P$$\n",
    "\n",
    "Where *P* is the ‘total sinuosity’ of the channel in plan-form, with *P = 1* indicating a completely straight channel path and *P > 1.5* indicating high levels of sinuosity (Schumm, 1993). Streams of a high sinuosity therefore have a low channel gradient, as reported by Leopold and Wolman (1957). Ratzlaff (1991) redefined the ‘total sinuosity’ of a channel to be comprised of several components: ‘channel sinuosity’, ‘floodplain sinuosity’, ‘terrace sinuosity’ and ‘valley sinuosity’. If the channel does not form within a floodplain, ‘floodplain sinuosity’ and ‘terrace sinuosity’ do not require consideration and the ‘total sinuosity’ of a channel is merely the product of channel and valley sinuosity (as in Schumm’s (1993) definition). Flowing water does not necessarily consist of a single well-defined channel, but may also organise into a network of interacting channels, termed ‘braiding’ (Leopold & Wolman, 1957; Schumm et al., 1987). \n",
    "\n",
    "<p style = \"color:red;\">Changes in fluvial channel morphology in response to base level fall via downward incision and knickpoint migration or degradation of the channel banks have been proposed to depend on the rate and magnitude of base-level fall, the local relief and hydrological input, and the character of the channel substrate (Blum & Törnqvist, 2000; Leopold & Bull, 1979; Schumm, 1993; Simon & Rinaldi, 2006). An over-arching theme of all experimental studies is that channels will adjust to incremental base-level fall initially by vertical incision, and then by widening, to eventually reach an equilibrium, graded geometry after base-level fall ceases.</p>\n",
    "\n",
    "Schumm (1993) proposed that channels may evolve to base-level drop via planform pattern changes, such as increases or decreases in sinuosity, in addition to aggradation and degradation of the channel. Indeed, such planform changes may be the primary mechanism of adjustment. Schumm also suggested that the pattern adjustments of a channel due to base-level fall are only likely to be observed in the section of channel which forms on the newly uncovered surface exposed by the base-level fall, due to the large scale of these fluvial systems. The difference in length scale between the entire channel length and the horizontal retreat of base-level in these cases is very large, hence the ability of the base-level drop to affect channel morphology is attenuated upstream in these large fluvial systems. \n",
    "\n",
    "The conceptual adjustment of channel sinuosity in response to an increment of base-level drop, in the case of constant slope of the valley floor bathymetry, is presented in **Figure 1**. The concept is based upon that conceived by Schumm (1993), but with the important distinction that the scale of shoreline retreat in response to base-level fall is of a comparable scale to the length of the channel itself, whereas in previous studies the length of the channel or river has been orders of magnitude greater than the scale of shoreline retreat. If the channel is to preserve its initial slope (α2), either the channel lengthens further at the same sinuosity (adding meanders, such as in Figure 1a between H and H’) or it erodes downward (incises) along the entire length of the channel (such as in Figure 1b). Alternatively, upstream lengthening of the channel can occur via back-erosion of the channel head to preserve the sinuosity of the channel and to maintain channel slope. In the case of a variable valley floor slope, the channel will adjust differently: if the valley slope increases, sinuosity must increase in the new section of channel to preserve channel slope (Schumm, 1993). In the case of a significant decrease in valley slope, the channel will display a decrease in sinuosity in the channel reach on the newly exposed shelf, and may begin to deposit material to form an alluvial fan or delta (Schumm, 1993). \n",
    "\n",
    "<p><img src=\"images/schumm_fig1a.png\" alt=\"schummfig1\" width=\"400\"/></p>\n",
    "\n",
    "**Figure 1.** Conceptual model of stream channel morphological response to base-level drop revealing a bathymetry of constant slope (α1) where the lithological properties of the material into which the channel is cut are uniform and homogeneous, modified from Schumm (1993). If the base-level falls by a given increment between time TA and TB, then the valley profile (AB) will increase by a given length (BD). The initial stream channel (AC) must increase in length by this amount as a minimum (BD = CH). The stream channel is hypothesised to respond to the base-level drop via two key mechanisms, both preserving the channel slope (α2): (a) adding meanders to the newly exposed valley floor until the new base-level is reached, of a length equivalent to HH’, or (b) incising along the channel length leading to a reduction in sinuosity, with the sinuosity reduction either distributed across the entire channel or only in parts of it (e.g. only in the newly developed reach of the channel, as shown here).\n",
    "\n",
    "In the case that we wish to assess the evolution of the sinuosity of a given reach of a channel with time by mapping the sinuosity using satellite imagery from multiple timestamps, we need a common framework from which to approach the problem and to normalise the approach to assessing sinuosity changes for each point in the channel between timestamps. This document aims to provide a framework for doing this using digitisation of channel centrelines manually to shapefiles (using a GIS software such as Q-GIS) and then analysing changes in sinuosity along-reach using a new python library 'sinuutils.py' written for the task. An example workbook for implementing the results is published in this repository. I have also provided some results obtained using the method for a study area on the Dead Sea eastern shore in Jordan, Ghor Al-Haditha, along with a brief discussion of the findings. "
   ]
  },
  {
   "cell_type": "markdown",
   "metadata": {},
   "source": [
    "## 2. Study Area and Datasets\n",
    "\n",
    "### 2.1 Study Area\n",
    "\n",
    "The Dead Sea is the hypersaline terminal lake of the Jordan River (**Fig. 2a**) and it lies within the Dead Sea basin. This ∼150 km long and ∼8–15 km wide basin lies at a left step (or bend) along the left-lateral Dead Sea Transform fault system (Garfunkel and Ben-Avraham, 1996). The basin has subsided rapidly from the late Pliocene to the present (Ten Brink and Flores, 2012), and during this time has hosted several palaeo-lakes of varying size and longevity (Bartov et al., 2002; Torfstein et al., 2009). With respect to modern global mean sea level (m.s.l.), a high-stand of −162 m m.s.l. was reached at around 25 ka, during the “Lisan Lake” episode. The modern Dead Sea initiated after a major low-stand at around 10 ka (Bartov et al., 2002). Since the late 1960s, the Dead Sea water level has undergone a largely anthropogenically forced decline at a gradually increasing rate (Lensky et al., 2005) from −395 to −433 m m.s.l. (1967–2018). As its level has declined, the modern lake has divided into northern and southern parts; the latter is now occupied entirely by industrial salt evaporation ponds. The base-level fell at a rate of 0.5 m yr−1 in the 1970s and at a rate of 1.1 m yr−1 in the last decade. In absolute terms, the lake level has declined by 39 m as of 2018 and is forecast to drop a further 25–70 m by 2100 (Asmar and Ergenzinger, 2002; Yechieli and Gavrieli, 1998).\n",
    "\n",
    "The Ghor Al-Haditha study area, which is about 25 km2 in size, is situated on the southeast shore of the northern Dead Sea (**Fig. 2**). The fall in Dead Sea level from 1967 to 2017 exposed former lake bed deposits that have been impacted by various processes in the intervening time. The bathymetry forms the topographical baseline for the study area and its transition from a steady (i.e. not significantly denuding) submarine environment to a rapidly eroding, subaerial regime is a fundamental cause of the evolution of the surface topography in the study area. Two main stream channel morphologies have been cut into the exposed salty-marl deposits of the former Dead Sea lake bed: meandering (CM) and straight (CS) (Figure 2). The focus of this work is on the meandering channels.\n",
    "\n",
    "The heads of all meandering channels have developed at spring points (in most cases, one per channel). Such springs lie either at the alluvium/mudflat boundary or within the mudflat deposits. As the shoreline has retreated, these channels have grown seaward, and show little or no upstream growth. Established sections of bof the channels also widen progressively with time. From field observations, channel widening is commonly associated with fault-delimited slumping of the channel sides (Al-Halbouni et al., 2017). Deposits within the meandering channels are mud to silt size. **Figure 3** shows a representative example of the evolution of one of these channels (CM6) with time.\n",
    "\n",
    "<p><img src=\"images/CM6-fig-AJG.png\" alt=\"CM6fig\" width=\"700\"/></p>\n",
    "\n",
    "**Figure 3.** Evolution of a meandering stream channel at Ghor Al-Haditha. (A), (B) and (C) are line maps of the geomorphology in 2000, 2012 and 2017 respectively. The channel in question is shown in green; other channels are shown in grey, along with the Dead Sea itself. The retreat of the shoreline with time is also shown, as is the growth of a fan of alluvial wadi deposits (light brown) and surface water ponded in sinkholes (light blue). In (C), the ‘meander belt axis’ (1-1’; light blue dashed line) and the longitu-dinal profile of the channel (2-2’; solid red line) are shown. (D), (E) and (F) show representative profiles transecting the channel as labelled in (C). The vertical exaggeration of all three transects is 7.5:1. (G) shows the longitudinal profile of the channel rela-tive to its meander belt axis and the relative contributions of subsidence and incision to its evolution.\n",
    "\n",
    "### 2.2 Datasets\n",
    "\n",
    "To digitise the stream channel centrelines for different timestamps, high-resolution satellite imagery and aerial photogrraphic imagery were used as presented in **Table 1**. For the Ghor Al-Haditha study area, many of the images were obtained commercially and orthorectified and pansharpened in-house as part of research done during the DESERVE Project (Kottmeier et al., 2016). However, Google Earth hosts global satellite imagery databases comprising images from multiple timestamps of adequate resolution for the vast majority of cases, meaning that the approach presented here can be universally applied to open-source datasets. Google Earth also supports vector digitisation of the centrelines of channels, so this software could can be used to generate the spatial data to be analysed if required.\n",
    "\n",
    "| Year |   Sensor   | Acquisition Date&Time (EET) | Resolution (m/pix) | Off-Nadir View Angle (&deg;) | Collection Azimuth |\n",
    "|:----:|:----------:|:---------------------------:|:------------------:|:----------------------------:|:------------------:|\n",
    "| 2000 |RJGC Aerial | 29/10 and 03/11, morning    |        0.6         |             n/a              |         n/a        |\n",
    "| 2004 | Quickbird  |      2004-10-20T08:37       |        0.6         |             12.0             |         090.1      |\n",
    "| 2006 | Quickbird  |      2006-11-18T08:42       |        0.6         |             11.0             |         120.1      | \n",
    "| 2009 | GeoEye-1   |      2009-08-09T08:32       |        0.5         |             19.3             |         223.9      | \n",
    "| 2012 | Quickbird  |      2012-03-05T07:42       |        0.6         |             19.8             |         119.0      | \n",
    "| 2014 |WorldView 3 |      2014-09-23T08:06       |        0.3         |             21.1             |         059.8      | \n",
    "| 2017 |Pleiades-1A |      2017-04-16T08:32       |        0.5         |             07.1             |         180.1      |\n",
    "\n",
    "**Table 1.** Metadata for satellite and aerial photographic images used in the example study. RJGC is the Royal Jordanian Geographical Centre.\n",
    "\n",
    "Additionally, I made use of elevation and topographic data for determining along-channel variations in slope and for delimiting the central axis of the 'valley' for each channel (see the **Methods** section for a discussion of what defines such a 'valley' in the case of these channels). For the purposes of this study, the data used were very high-resolution Digital Surface Models (DSMs) as detailed in **Table 2**. These DSMs were produced by Structure-from-Motion (SfM) photogrammetry (see Al-Halbouni et al., 2017, for a review of the SfM DSM generation process employed). These DSMs are available upon request from the creators (Djamil Al-Halbouni and Leila Saberi). High-resolution topographic data such as this currently publicly available only for certain parts of the globe, but its availability is presently increasing. For analysis of sinuosity variations with space and time, topographic data is not required and is only necessary for contextualising the results, so the approach presented does not rely on the existence of topograhpic data. In the majority of cases, the resolution of topographic data may not need to be as fine as that in this study when interrogating the effects of channel slope on sinuosity variations in space and time. In any case, high-resolution DSMs do not exist for every timestamp studied here, so can only offer limited assistance in contextualising the results.\n",
    "\n",
    "| Year | Resolution (m/pix) | Horizontal Accuracy (m) | Vertical Accuracy (m) |\n",
    "|:----:|:------------------:|:-----------------------:|:---------------------:|\n",
    "|2014  |0.05                |0.10                     |0.11                   |\n",
    "|2015  |0.10                |0.12                     |0.17                   |\n",
    "|2016  |0.10                |0.37                     |0.31                   |\n",
    "\n",
    "**Table 2.** Metadata for SfM DSM datasets used in the study. \n",
    "\n",
    "For the Ghor Al-Haditha study area, no reliable topographic baseline (prior to the onset of major surface erosion) existed, so I reconstructed the bathymetry of the former lake bed (uncovered by the regression of the Dead Sea shoreline) using historical measurements of Dead Sea level. This process and the resulting topography were reported in (Watson et al., 2019). "
   ]
  },
  {
   "cell_type": "markdown",
   "metadata": {},
   "source": [
    "## 3. Methods\n",
    "\n",
    "Here I first define some key terms in the approach used to quantify the morphological evolution of the meandering channels. The ‘valley length’ (*L<sub>v</sub>* in equation (1)) is here defined after Brice (1964) who defines the ‘valley sinuosity’ as the difference between the gentle sinuous axis of a line following the trend of the channel as it meanders (the ‘meander belt’) and the straight-line distance between the head and mouth of the channel. In my analysis, I treat the ‘valley sinuosity’ or ‘meander belt axis’ to be a baseline for channel sinuosity in the absence of a topographical valley to constrain the channel limits (ie I consider the ‘meander belt axis’ to have a sinuosity of 1). Therefore, I define the ‘total sinuosity’ to be the ratio of total channel length ((*L<sub>c</sub>* in equation (1)) and the length of the meander belt axis (here considered equivalent to *L<sub>v</sub>*). \n",
    "\n",
    "### 3.1 Mapping of channel centreline and meander belt axis\n",
    "\n",
    "*L<sub>c</sub>* was measured by manually mapping the centreline of the channels, and *L<sub>v</sub>* by manually determining the mean meander belt axis profile from visual inspection of the remote sensing data and the bathymetric contour data. The channel sinuosity was analysed in moving windows of a fixed length of 50m. A 50m window was determined to be the most suitable for subsequent interpretation. For ease of comparison and explanation of my results, channels were divided into ten reaches of equal length for each channel, with reach 1 that nearest the channel head and reach 10 that nearest the channel mouth.\n"
   ]
  },
  {
   "cell_type": "markdown",
   "metadata": {},
   "source": [
    "## 4. Results\n",
    "\n"
   ]
  },
  {
   "cell_type": "markdown",
   "metadata": {},
   "source": [
    "## 5. Discussion\n",
    "\n",
    "\n",
    "## 6. Conclusions\n",
    "\n",
    "\n",
    "## 7. References"
   ]
  }
 ],
 "metadata": {
  "kernelspec": {
   "display_name": "Python 3",
   "language": "python",
   "name": "python3"
  },
  "language_info": {
   "codemirror_mode": {
    "name": "ipython",
    "version": 3
   },
   "file_extension": ".py",
   "mimetype": "text/x-python",
   "name": "python",
   "nbconvert_exporter": "python",
   "pygments_lexer": "ipython3",
   "version": "3.7.4"
  }
 },
 "nbformat": 4,
 "nbformat_minor": 2
}
